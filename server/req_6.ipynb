{
 "cells": [
  {
   "cell_type": "code",
   "execution_count": 26,
   "metadata": {},
   "outputs": [],
   "source": [
    "import pandas as pd\n",
    "import numpy as np\n",
    "\n",
    "import psycopg\n",
    "from typing import Any, Callable, Optional\n",
    "import os\n",
    "\n",
    "CONN_INFO = {\n",
    "    \"dbname\": \"personality\",\n",
    "    \"user\": \"admin\",\n",
    "    \"password\": \"top_secret_password_db_personality\",\n",
    "    \"host\": \"localhost\",\n",
    "    \"port\": 5433\n",
    "}\n",
    "\n",
    "def execute_query(query: str, params: Optional[dict]) -> list[tuple]:\n",
    "    with psycopg.connect(**CONN_INFO) as conn:\n",
    "        with conn.cursor() as cursor:\n",
    "            cursor.execute(query, params)\n",
    "            results = cursor.fetchall()\n",
    "\n",
    "    conn.close()\n",
    "    return results"
   ]
  },
  {
   "cell_type": "code",
   "execution_count": 47,
   "metadata": {},
   "outputs": [
    {
     "data": {
      "text/plain": [
       "[('IMAX', 'agreeableness', Decimal('0.1202913985514026398897')),\n",
       " ('Children', 'agreeableness', Decimal('0.1153144637177246065352')),\n",
       " ('Animation', 'agreeableness', Decimal('0.1080497799219568641606')),\n",
       " ('Adventure', 'agreeableness', Decimal('0.0946745039190321448027')),\n",
       " ('Fantasy', 'agreeableness', Decimal('0.0928493914926192773162')),\n",
       " ('Animation', 'conscientiousness', Decimal('-0.0309753602771566697890')),\n",
       " ('Documentary', 'conscientiousness', Decimal('-0.0313560996690476285496')),\n",
       " ('Horror', 'conscientiousness', Decimal('-0.0317291625429159791529')),\n",
       " ('Western', 'conscientiousness', Decimal('-0.0326193464859985990712')),\n",
       " ('Film-Noir', 'conscientiousness', Decimal('-0.057196987942644134599400'))]"
      ]
     },
     "execution_count": 47,
     "metadata": {},
     "output_type": "execute_result"
    }
   ],
   "source": [
    "query = \"\"\"\n",
    "WITH PearsonCoefficients AS (\n",
    "    SELECT\n",
    "        g.genre,\n",
    "        p.trait AS personality_type,\n",
    "        (\n",
    "            (COUNT(*) * SUM(rating * p.value) - SUM(rating) * SUM(p.value))\n",
    "            /\n",
    "            (SQRT(COUNT(*) * SUM(rating * rating) - SUM(rating) * SUM(rating))\n",
    "            * SQRT(COUNT(*) * SUM(p.value * p.value) - SUM(p.value) * SUM(p.value)))\n",
    "        ) AS pearson_coeff\n",
    "    FROM users u\n",
    "    JOIN ratings r ON r.user_id = u.user_id\n",
    "    JOIN movies m ON r.movie_id = m.movie_id\n",
    "    JOIN movie_genre mg ON mg.movie_id = m.movie_id\n",
    "    JOIN genres g ON g.genre_id = mg.genre_id\n",
    "    JOIN (\n",
    "        SELECT user_id, 'openness' AS trait, openness AS value FROM users\n",
    "        UNION ALL\n",
    "        SELECT user_id, 'agreeableness', agreeableness FROM users\n",
    "        UNION ALL\n",
    "        SELECT user_id, 'emotional_stability', emotional_stability FROM users\n",
    "        UNION ALL\n",
    "        SELECT user_id, 'conscientiousness', conscientiousness FROM users\n",
    "        UNION ALL\n",
    "        SELECT user_id, 'extraversion', extraversion FROM users\n",
    "    ) p ON u.user_id = p.user_id\n",
    "    GROUP BY g.genre, p.trait\n",
    ")\n",
    "\n",
    "SELECT * FROM (\n",
    "    (SELECT * FROM PearsonCoefficients ORDER BY pearson_coeff DESC LIMIT 5)\n",
    "    UNION ALL\n",
    "    (SELECT * FROM PearsonCoefficients ORDER BY pearson_coeff ASC LIMIT 5)\n",
    ") AS CombinedResults\n",
    "ORDER BY pearson_coeff DESC;\n",
    "\"\"\"\n",
    "\n",
    "params = {}\n",
    "\n",
    "results = execute_query(query, params)\n",
    "positive_results = [(x[0], x[1]) for x in results[:5]]\n",
    "negative_results = [(x[0], x[1]) for x in results[5:]]\n",
    "response = jsonify({'positive_correlations' : positive_results,\n",
    "                    'negative_correlations': negative_results})\n",
    "return response"
   ]
  },
  {
   "cell_type": "code",
   "execution_count": null,
   "metadata": {},
   "outputs": [],
   "source": []
  }
 ],
 "metadata": {
  "kernelspec": {
   "display_name": "comp0022",
   "language": "python",
   "name": "python3"
  },
  "language_info": {
   "codemirror_mode": {
    "name": "ipython",
    "version": 3
   },
   "file_extension": ".py",
   "mimetype": "text/x-python",
   "name": "python",
   "nbconvert_exporter": "python",
   "pygments_lexer": "ipython3",
   "version": "3.11.7"
  }
 },
 "nbformat": 4,
 "nbformat_minor": 2
}
