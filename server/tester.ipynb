{
 "cells": [
  {
   "cell_type": "code",
   "execution_count": 5,
   "metadata": {},
   "outputs": [],
   "source": [
    "from typing import Optional\n",
    "import psycopg\n",
    "\n",
    "\n",
    "def execute_query(query: str, params: Optional[dict]) -> list[tuple]:\n",
    "    with psycopg.connect(**{\n",
    "        \"dbname\": \"comp0022\",\n",
    "        \"user\": \"admin\",\n",
    "        \"password\": \"top_secret_password\",\n",
    "        \"host\": \"localhost\",\n",
    "        \"port\": \"5432\",\n",
    "    }) as conn:\n",
    "        with conn.cursor() as cursor:\n",
    "            cursor.execute(query, params)\n",
    "            results = cursor.fetchall()\n",
    "\n",
    "    conn.close()\n",
    "    return results"
   ]
  },
  {
   "cell_type": "code",
   "execution_count": 53,
   "metadata": {},
   "outputs": [
    {
     "data": {
      "text/plain": [
       "{'inner_join_minimal_return': 1.2075157165527344,\n",
       " 'minimal': 0.05252504348754883,\n",
       " 'minimal_no_order': 0.049154043197631836}"
      ]
     },
     "execution_count": 53,
     "metadata": {},
     "output_type": "execute_result"
    }
   ],
   "source": [
    "import time\n",
    "\n",
    "\n",
    "queries = {\n",
    "    'join' : \"\"\"\n",
    "SELECT\n",
    "                m.image_url,\n",
    "                m.title,\n",
    "                m.year,\n",
    "                AVG(r.rating),\n",
    "                ARRAY_AGG(DISTINCT g.genre) AS genres,\n",
    "                ARRAY_AGG(DISTINCT t.tag) AS tags,\n",
    "                ARRAY_AGG(r.rating) FILTER (WHERE r.rating IS NOT NULL) AS ratings,\n",
    "                ARRAY_AGG(DISTINCT a.name) as actors,\n",
    "                ARRAY_AGG(DISTINCT d.name) as directors\n",
    "            FROM movies m\n",
    "            LEFT JOIN ratings r ON m.movie_id = r.movie_id\n",
    "            LEFT JOIN movies_genres mg ON m.movie_id = mg.movie_id\n",
    "            LEFT JOIN genres g ON mg.genre_id = g.genre_id\n",
    "            LEFT JOIN tags t ON m.movie_id = t.movie_id\n",
    "            left join movies_actors ma on m.movie_id = ma.movie_id\n",
    "            left join actors a on ma.actor_id = a.actor_id\n",
    "            left join movies_directors md on m.movie_id = md.movie_id\n",
    "            left join directors d on md.director_id = d.director_id\n",
    "            WHERE 1=1\n",
    "            GROUP BY m.title, m.image_url, m.year\n",
    "            ORDER BY AVG(r.rating) DESC\n",
    "            LIMIT 15\n",
    "\"\"\",\n",
    "'inner_join_minimal_return' : \"\"\"\n",
    "SELECT\n",
    "                m.image_url,\n",
    "                m.title,\n",
    "                m.year\n",
    "            FROM movies m\n",
    "            inner JOIN ratings r ON m.movie_id = r.movie_id\n",
    "            inner JOIN movies_genres mg ON m.movie_id = mg.movie_id\n",
    "            inner JOIN genres g ON mg.genre_id = g.genre_id\n",
    "            inner JOIN tags t ON m.movie_id = t.movie_id\n",
    "            inner join movies_actors ma on m.movie_id = ma.movie_id\n",
    "            inner join actors a on ma.actor_id = a.actor_id\n",
    "            inner join movies_directors md on m.movie_id = md.movie_id\n",
    "            inner join directors d on md.director_id = d.director_id\n",
    "            WHERE 1=1\n",
    "            GROUP BY m.title, m.image_url, m.year\n",
    "            ORDER BY AVG(r.rating) DESC\n",
    "            LIMIT 5\n",
    "\"\"\",\n",
    "'minimal' : \"\"\"\n",
    "SELECT\n",
    "                m.image_url,\n",
    "                m.title,\n",
    "                m.year\n",
    "            FROM movies m\n",
    "            inner JOIN ratings r ON m.movie_id = r.movie_id\n",
    "            WHERE 1=1\n",
    "            GROUP BY m.title, m.image_url, m.year\n",
    "            ORDER BY AVG(r.rating) DESC\n",
    "            LIMIT 5\n",
    "\"\"\",\n",
    "'minimal_no_order' : \"\"\"\n",
    "SELECT\n",
    "                m.image_url,\n",
    "                m.title,\n",
    "                m.year\n",
    "            FROM movies m\n",
    "            inner JOIN ratings r ON m.movie_id = r.movie_id\n",
    "            WHERE 1=1\n",
    "            GROUP BY m.title, m.image_url, m.year\n",
    "            LIMIT 5\n",
    "\"\"\"}\n",
    "\n",
    "params = {}\n",
    "\n",
    "times = {}\n",
    "for n, q in queries.items():\n",
    "    best_time = 100\n",
    "    for _ in range(3):\n",
    "        start_time = time.time()\n",
    "        execute_query(q, params)\n",
    "        end_time = time.time()\n",
    "        best_time = min(best_time, end_time - start_time)\n",
    "    times[n] = (best_time)\n",
    "times"
   ]
  },
  {
   "cell_type": "code",
   "execution_count": 42,
   "metadata": {},
   "outputs": [
    {
     "data": {
      "text/plain": [
       "0.022302865982055664"
      ]
     },
     "execution_count": 42,
     "metadata": {},
     "output_type": "execute_result"
    }
   ],
   "source": [
    "import concurrent.futures\n",
    "\n",
    "best_time = 100\n",
    "for _ in range(30):\n",
    "    start_time = time.time()\n",
    "    pt_1 = \"\"\"select dm.movie_id from movies_directors dm\n",
    "    inner join directors d on d.director_id = dm.director_id\n",
    "    where lower(d.name) like lower(%(directorname)s)\"\"\"\n",
    "\n",
    "    pt_2 = \"\"\"select am.movie_id from movies_actors am\n",
    "    inner join actors a on a.actor_id = am.actor_id\n",
    "    where lower(a.name) like lower(%(actorname)s)\"\"\"\n",
    "\n",
    "    with concurrent.futures.ThreadPoolExecutor() as executor:\n",
    "        future_to_query = {\n",
    "            executor.submit(execute_query, pt_1, {'directorname': 'A%'}): 'director',\n",
    "            executor.submit(execute_query, pt_2, {'actorname': 'A%'}): 'actor'\n",
    "        }\n",
    "        \n",
    "        result_1 = []\n",
    "        result_2 = []\n",
    "        \n",
    "        for future in concurrent.futures.as_completed(future_to_query):\n",
    "            query_type = future_to_query[future]\n",
    "            if query_type == 'director':\n",
    "                result_1 = future.result()\n",
    "            elif query_type == 'actor':\n",
    "                result_2 = future.result()\n",
    "\n",
    "    result_intersection = set(result_1).intersection(set(result_2))\n",
    "    end_time = time.time()\n",
    "\n",
    "    best_time = min(best_time, end_time - start_time)\n",
    "best_time   "
   ]
  },
  {
   "cell_type": "code",
   "execution_count": 43,
   "metadata": {},
   "outputs": [
    {
     "data": {
      "text/plain": [
       "0.00890207290649414"
      ]
     },
     "execution_count": 43,
     "metadata": {},
     "output_type": "execute_result"
    }
   ],
   "source": [
    "best_time = 100\n",
    "for _ in range(30):\n",
    "    start_time = time.time()\n",
    "    query = \"\"\"\n",
    "    select * from movies m\n",
    "    left join movies_directors dm on dm.movie_id = m.movie_id\n",
    "    left join movies_actors am on am.movie_id = m.movie_id\n",
    "    left join directors d on d.director_id = dm.director_id\n",
    "    left join actors a on a.actor_id = am.actor_id\n",
    "    where a.name like %(actorname)s\n",
    "    and d.name like %(directorname)s\"\"\"\n",
    "\n",
    "    params = {'actorname': 'A%', 'directorname': 'A%'}\n",
    "    execute_query(query, params)\n",
    "    end_time = time.time()\n",
    "    best_time = min(best_time, end_time - start_time)\n",
    "best_time"
   ]
  }
 ],
 "metadata": {
  "kernelspec": {
   "display_name": "comp0022",
   "language": "python",
   "name": "python3"
  },
  "language_info": {
   "codemirror_mode": {
    "name": "ipython",
    "version": 3
   },
   "file_extension": ".py",
   "mimetype": "text/x-python",
   "name": "python",
   "nbconvert_exporter": "python",
   "pygments_lexer": "ipython3",
   "version": "3.11.7"
  }
 },
 "nbformat": 4,
 "nbformat_minor": 2
}
